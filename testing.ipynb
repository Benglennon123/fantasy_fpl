{
 "cells": [
  {
   "cell_type": "code",
   "execution_count": 1,
   "metadata": {},
   "outputs": [],
   "source": [
    "from fpl_data.player_data import *\n",
    "import pandas as pd\n"
   ]
  },
  {
   "cell_type": "code",
   "execution_count": 2,
   "metadata": {},
   "outputs": [],
   "source": [
    "win_perc = pd.read_csv('win_perc.csv')\n",
    "curateddf = pd.read_csv('curated.csv')"
   ]
  },
  {
   "cell_type": "code",
   "execution_count": 3,
   "metadata": {},
   "outputs": [
    {
     "data": {
      "text/plain": [
       "Index(['Unnamed: 0', 'id', 'first_name', 'web_name', 'team', 'team_code',\n",
       "       'now_cost', 'photo', 'total_points', 'value_season', 'minutes',\n",
       "       'ict_index_rank', 'element_type', 'bps', 'influence', 'creativity',\n",
       "       'threat', 'goals_scored', 'expected_goals', 'assists',\n",
       "       'expected_assists', 'form', 'selected_rank',\n",
       "       'chance_of_playing_next_round', 'chance_of_playing_this_round',\n",
       "       'position', 'team_name', 'average_points', 'average_minutes',\n",
       "       'avg_points_per_min', 'goals_scored_last_season',\n",
       "       'goals_conceded_last_season', 'assists_last_season',\n",
       "       'minutes_last_season', 'clean_sheets_last_season',\n",
       "       'total_points_last_season', 'ict_index_last_season',\n",
       "       'red_cards_last_season', 'yellow_cards_last_season',\n",
       "       'starts_last_season', 'saves_last_season',\n",
       "       'penalties_saved_last_season', 'penalties_missed_last_season',\n",
       "       'average_win_perc_first_10'],\n",
       "      dtype='object')"
      ]
     },
     "execution_count": 3,
     "metadata": {},
     "output_type": "execute_result"
    }
   ],
   "source": [
    "curateddf.columns"
   ]
  },
  {
   "cell_type": "code",
   "execution_count": null,
   "metadata": {},
   "outputs": [],
   "source": []
  },
  {
   "cell_type": "code",
   "execution_count": 4,
   "metadata": {},
   "outputs": [
    {
     "name": "stderr",
     "output_type": "stream",
     "text": [
      "C:\\Users\\Ben PC\\AppData\\Roaming\\Python\\Python310\\site-packages\\numpy\\core\\fromnumeric.py:3464: RuntimeWarning: Mean of empty slice.\n",
      "  return _methods._mean(a, axis=axis, dtype=dtype,\n",
      "C:\\Users\\Ben PC\\AppData\\Roaming\\Python\\Python310\\site-packages\\numpy\\core\\_methods.py:192: RuntimeWarning: invalid value encountered in scalar divide\n",
      "  ret = ret.dtype.type(ret / rcount)\n"
     ]
    },
    {
     "data": {
      "text/html": [
       "<div>\n",
       "<style scoped>\n",
       "    .dataframe tbody tr th:only-of-type {\n",
       "        vertical-align: middle;\n",
       "    }\n",
       "\n",
       "    .dataframe tbody tr th {\n",
       "        vertical-align: top;\n",
       "    }\n",
       "\n",
       "    .dataframe thead th {\n",
       "        text-align: right;\n",
       "    }\n",
       "</style>\n",
       "<table border=\"1\" class=\"dataframe\">\n",
       "  <thead>\n",
       "    <tr style=\"text-align: right;\">\n",
       "      <th></th>\n",
       "      <th>id</th>\n",
       "      <th>web_name</th>\n",
       "      <th>now_cost</th>\n",
       "      <th>average_points</th>\n",
       "      <th>total_points_last_season</th>\n",
       "    </tr>\n",
       "  </thead>\n",
       "  <tbody>\n",
       "    <tr>\n",
       "      <th>3</th>\n",
       "      <td>5</td>\n",
       "      <td>Gabriel</td>\n",
       "      <td>50</td>\n",
       "      <td>123.333333</td>\n",
       "      <td>146</td>\n",
       "    </tr>\n",
       "    <tr>\n",
       "      <th>23</th>\n",
       "      <td>29</td>\n",
       "      <td>White</td>\n",
       "      <td>55</td>\n",
       "      <td>122.333333</td>\n",
       "      <td>156</td>\n",
       "    </tr>\n",
       "    <tr>\n",
       "      <th>28</th>\n",
       "      <td>33</td>\n",
       "      <td>Archer</td>\n",
       "      <td>45</td>\n",
       "      <td>0.000000</td>\n",
       "      <td>6</td>\n",
       "    </tr>\n",
       "    <tr>\n",
       "      <th>45</th>\n",
       "      <td>60</td>\n",
       "      <td>Watkins</td>\n",
       "      <td>80</td>\n",
       "      <td>158.000000</td>\n",
       "      <td>175</td>\n",
       "    </tr>\n",
       "    <tr>\n",
       "      <th>110</th>\n",
       "      <td>139</td>\n",
       "      <td>Lamptey</td>\n",
       "      <td>40</td>\n",
       "      <td>44.000000</td>\n",
       "      <td>23</td>\n",
       "    </tr>\n",
       "    <tr>\n",
       "      <th>212</th>\n",
       "      <td>255</td>\n",
       "      <td>Holgate</td>\n",
       "      <td>40</td>\n",
       "      <td>52.666667</td>\n",
       "      <td>16</td>\n",
       "    </tr>\n",
       "    <tr>\n",
       "      <th>229</th>\n",
       "      <td>661</td>\n",
       "      <td>Harrison</td>\n",
       "      <td>55</td>\n",
       "      <td>137.000000</td>\n",
       "      <td>134</td>\n",
       "    </tr>\n",
       "    <tr>\n",
       "      <th>259</th>\n",
       "      <td>291</td>\n",
       "      <td>A.Becker</td>\n",
       "      <td>55</td>\n",
       "      <td>159.333333</td>\n",
       "      <td>162</td>\n",
       "    </tr>\n",
       "    <tr>\n",
       "      <th>273</th>\n",
       "      <td>308</td>\n",
       "      <td>Salah</td>\n",
       "      <td>125</td>\n",
       "      <td>245.000000</td>\n",
       "      <td>239</td>\n",
       "    </tr>\n",
       "    <tr>\n",
       "      <th>290</th>\n",
       "      <td>352</td>\n",
       "      <td>Ederson M.</td>\n",
       "      <td>55</td>\n",
       "      <td>145.333333</td>\n",
       "      <td>121</td>\n",
       "    </tr>\n",
       "    <tr>\n",
       "      <th>293</th>\n",
       "      <td>355</td>\n",
       "      <td>Haaland</td>\n",
       "      <td>140</td>\n",
       "      <td>0.000000</td>\n",
       "      <td>272</td>\n",
       "    </tr>\n",
       "    <tr>\n",
       "      <th>309</th>\n",
       "      <td>373</td>\n",
       "      <td>B.Fernandes</td>\n",
       "      <td>85</td>\n",
       "      <td>190.333333</td>\n",
       "      <td>176</td>\n",
       "    </tr>\n",
       "    <tr>\n",
       "      <th>338</th>\n",
       "      <td>407</td>\n",
       "      <td>Burn</td>\n",
       "      <td>45</td>\n",
       "      <td>95.000000</td>\n",
       "      <td>129</td>\n",
       "    </tr>\n",
       "    <tr>\n",
       "      <th>448</th>\n",
       "      <td>526</td>\n",
       "      <td>Bowen</td>\n",
       "      <td>70</td>\n",
       "      <td>164.000000</td>\n",
       "      <td>145</td>\n",
       "    </tr>\n",
       "    <tr>\n",
       "      <th>467</th>\n",
       "      <td>664</td>\n",
       "      <td>Ward-Prowse</td>\n",
       "      <td>60</td>\n",
       "      <td>152.333333</td>\n",
       "      <td>142</td>\n",
       "    </tr>\n",
       "  </tbody>\n",
       "</table>\n",
       "</div>"
      ],
      "text/plain": [
       "      id     web_name  now_cost  average_points  total_points_last_season\n",
       "3      5      Gabriel        50      123.333333                       146\n",
       "23    29        White        55      122.333333                       156\n",
       "28    33       Archer        45        0.000000                         6\n",
       "45    60      Watkins        80      158.000000                       175\n",
       "110  139      Lamptey        40       44.000000                        23\n",
       "212  255      Holgate        40       52.666667                        16\n",
       "229  661     Harrison        55      137.000000                       134\n",
       "259  291     A.Becker        55      159.333333                       162\n",
       "273  308        Salah       125      245.000000                       239\n",
       "290  352   Ederson M.        55      145.333333                       121\n",
       "293  355      Haaland       140        0.000000                       272\n",
       "309  373  B.Fernandes        85      190.333333                       176\n",
       "338  407         Burn        45       95.000000                       129\n",
       "448  526        Bowen        70      164.000000                       145\n",
       "467  664  Ward-Prowse        60      152.333333                       142"
      ]
     },
     "execution_count": 4,
     "metadata": {},
     "output_type": "execute_result"
    }
   ],
   "source": [
    "team_selected = pick_team(apply_win_to_players(win_perc,curateddf,9),[33,139,255,352,355,498])[['id','web_name','now_cost','average_points','total_points_last_season']]\n",
    "team_selected"
   ]
  },
  {
   "cell_type": "code",
   "execution_count": 5,
   "metadata": {},
   "outputs": [
    {
     "data": {
      "text/plain": [
       "{5: 1,\n",
       " 29: 1,\n",
       " 33: 0,\n",
       " 60: 5,\n",
       " 139: 0,\n",
       " 255: 0,\n",
       " 661: 0,\n",
       " 291: 3,\n",
       " 308: 5,\n",
       " 352: 6,\n",
       " 355: 13,\n",
       " 373: 3,\n",
       " 407: 2,\n",
       " 526: 9,\n",
       " 664: 0}"
      ]
     },
     "execution_count": 5,
     "metadata": {},
     "output_type": "execute_result"
    }
   ],
   "source": [
    "check_teams_performance(list(team_selected['id']),1)"
   ]
  },
  {
   "cell_type": "code",
   "execution_count": null,
   "metadata": {},
   "outputs": [],
   "source": []
  }
 ],
 "metadata": {
  "kernelspec": {
   "display_name": "Python 3",
   "language": "python",
   "name": "python3"
  },
  "language_info": {
   "codemirror_mode": {
    "name": "ipython",
    "version": 3
   },
   "file_extension": ".py",
   "mimetype": "text/x-python",
   "name": "python",
   "nbconvert_exporter": "python",
   "pygments_lexer": "ipython3",
   "version": "3.10.7"
  },
  "orig_nbformat": 4
 },
 "nbformat": 4,
 "nbformat_minor": 2
}
