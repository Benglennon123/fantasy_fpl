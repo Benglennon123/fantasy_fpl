{
 "cells": [
  {
   "cell_type": "code",
   "execution_count": 9,
   "metadata": {},
   "outputs": [],
   "source": [
    "from fpl_data.player_data import *\n",
    "import pandas as pd\n"
   ]
  },
  {
   "cell_type": "code",
   "execution_count": 10,
   "metadata": {},
   "outputs": [],
   "source": [
    "win_perc = pd.read_csv('win_perc.csv')\n",
    "curateddf = pd.read_csv('curated.csv')"
   ]
  },
  {
   "cell_type": "code",
   "execution_count": 11,
   "metadata": {},
   "outputs": [
    {
     "data": {
      "text/plain": [
       "Index(['Unnamed: 0', 'id', 'first_name', 'web_name', 'team', 'team_code',\n",
       "       'now_cost', 'photo', 'total_points', 'value_season', 'minutes',\n",
       "       'ict_index_rank', 'element_type', 'bps', 'influence', 'creativity',\n",
       "       'threat', 'goals_scored', 'expected_goals', 'assists',\n",
       "       'expected_assists', 'form', 'selected_rank',\n",
       "       'chance_of_playing_next_round', 'chance_of_playing_this_round',\n",
       "       'position', 'team_name', 'average_points', 'average_minutes',\n",
       "       'avg_points_per_min', 'goals_scored_last_season',\n",
       "       'goals_conceded_last_season', 'assists_last_season',\n",
       "       'minutes_last_season', 'clean_sheets_last_season',\n",
       "       'total_points_last_season', 'ict_index_last_season',\n",
       "       'red_cards_last_season', 'yellow_cards_last_season',\n",
       "       'starts_last_season', 'saves_last_season',\n",
       "       'penalties_saved_last_season', 'penalties_missed_last_season',\n",
       "       'average_win_perc_first_10'],\n",
       "      dtype='object')"
      ]
     },
     "execution_count": 11,
     "metadata": {},
     "output_type": "execute_result"
    }
   ],
   "source": [
    "curateddf.columns"
   ]
  },
  {
   "cell_type": "code",
   "execution_count": 12,
   "metadata": {},
   "outputs": [
    {
     "ename": "ValueError",
     "evalue": "The truth value of a Series is ambiguous. Use a.empty, a.bool(), a.item(), a.any() or a.all().",
     "output_type": "error",
     "traceback": [
      "\u001b[1;31m---------------------------------------------------------------------------\u001b[0m",
      "\u001b[1;31mValueError\u001b[0m                                Traceback (most recent call last)",
      "\u001b[1;32md:\\Fantasy_foot\\fantasy_fpl\\testing.ipynb Cell 4\u001b[0m in \u001b[0;36m7\n\u001b[0;32m      <a href='vscode-notebook-cell:/d%3A/Fantasy_foot/fantasy_fpl/testing.ipynb#W4sZmlsZQ%3D%3D?line=0'>1</a>\u001b[0m variable_map \u001b[39m=\u001b[39m {\n\u001b[0;32m      <a href='vscode-notebook-cell:/d%3A/Fantasy_foot/fantasy_fpl/testing.ipynb#W4sZmlsZQ%3D%3D?line=1'>2</a>\u001b[0m     \u001b[39m'\u001b[39m\u001b[39mict_index_rank\u001b[39m\u001b[39m'\u001b[39m:\u001b[39m'\u001b[39m\u001b[39mmin\u001b[39m\u001b[39m'\u001b[39m,\n\u001b[0;32m      <a href='vscode-notebook-cell:/d%3A/Fantasy_foot/fantasy_fpl/testing.ipynb#W4sZmlsZQ%3D%3D?line=2'>3</a>\u001b[0m     \u001b[39m'\u001b[39m\u001b[39mtotal_points\u001b[39m\u001b[39m'\u001b[39m:\u001b[39m'\u001b[39m\u001b[39mmax\u001b[39m\u001b[39m'\u001b[39m,\n\u001b[0;32m      <a href='vscode-notebook-cell:/d%3A/Fantasy_foot/fantasy_fpl/testing.ipynb#W4sZmlsZQ%3D%3D?line=3'>4</a>\u001b[0m     \u001b[39m'\u001b[39m\u001b[39mtotal_points_last_season\u001b[39m\u001b[39m'\u001b[39m:\u001b[39m'\u001b[39m\u001b[39mmax\u001b[39m\u001b[39m'\u001b[39m,\n\u001b[0;32m      <a href='vscode-notebook-cell:/d%3A/Fantasy_foot/fantasy_fpl/testing.ipynb#W4sZmlsZQ%3D%3D?line=4'>5</a>\u001b[0m     \u001b[39m'\u001b[39m\u001b[39mminutes_last_season\u001b[39m\u001b[39m'\u001b[39m:\u001b[39m'\u001b[39m\u001b[39mmax\u001b[39m\u001b[39m'\u001b[39m\n\u001b[0;32m      <a href='vscode-notebook-cell:/d%3A/Fantasy_foot/fantasy_fpl/testing.ipynb#W4sZmlsZQ%3D%3D?line=5'>6</a>\u001b[0m }\n\u001b[1;32m----> <a href='vscode-notebook-cell:/d%3A/Fantasy_foot/fantasy_fpl/testing.ipynb#W4sZmlsZQ%3D%3D?line=6'>7</a>\u001b[0m team_selected \u001b[39m=\u001b[39m pick_team_variable(apply_win_to_players(win_perc,curateddf,\u001b[39m5\u001b[39;49m),[\u001b[39m33\u001b[39;49m,\u001b[39m139\u001b[39;49m,\u001b[39m255\u001b[39;49m,\u001b[39m352\u001b[39;49m,\u001b[39m355\u001b[39;49m,\u001b[39m524\u001b[39;49m],variable_map)[[\u001b[39m'\u001b[39m\u001b[39mid\u001b[39m\u001b[39m'\u001b[39m,\u001b[39m'\u001b[39m\u001b[39mweb_name\u001b[39m\u001b[39m'\u001b[39m,\u001b[39m'\u001b[39m\u001b[39mnow_cost\u001b[39m\u001b[39m'\u001b[39m,\u001b[39m'\u001b[39m\u001b[39maverage_points\u001b[39m\u001b[39m'\u001b[39m,\u001b[39m'\u001b[39m\u001b[39mtotal_points_last_season\u001b[39m\u001b[39m'\u001b[39m]]\n\u001b[0;32m      <a href='vscode-notebook-cell:/d%3A/Fantasy_foot/fantasy_fpl/testing.ipynb#W4sZmlsZQ%3D%3D?line=7'>8</a>\u001b[0m team_selected\n",
      "File \u001b[1;32md:\\Fantasy_foot\\fantasy_fpl\\fpl_data\\player_data.py:309\u001b[0m, in \u001b[0;36mpick_team_variable\u001b[1;34m(df, inlcude_player_ids, variables_map)\u001b[0m\n\u001b[0;32m    307\u001b[0m \u001b[39mif\u001b[39;00m variables_map[var] \u001b[39m==\u001b[39m\u001b[39m\"\u001b[39m\u001b[39mmin\u001b[39m\u001b[39m\"\u001b[39m:\n\u001b[0;32m    308\u001b[0m     df[var] \u001b[39m=\u001b[39m df[var]\u001b[39m.\u001b[39mastype(\u001b[39mfloat\u001b[39m)\u001b[39m.\u001b[39mfillna(\u001b[39m0\u001b[39m)\n\u001b[1;32m--> 309\u001b[0m     prob \u001b[39m=\u001b[39m prob \u001b[39m-\u001b[39m lpSum(selected[i] \u001b[39m*\u001b[39;49m df\u001b[39m.\u001b[39;49mloc[i, variables_map] \u001b[39mfor\u001b[39;49;00m i \u001b[39min\u001b[39;49;00m \u001b[39mrange\u001b[39;49m(\u001b[39mlen\u001b[39;49m(df)))\n\u001b[0;32m    310\u001b[0m \u001b[39melse\u001b[39;00m:\n\u001b[0;32m    311\u001b[0m     prob \u001b[39m=\u001b[39m prob \u001b[39m+\u001b[39m lpSum(selected[i] \u001b[39m*\u001b[39m df\u001b[39m.\u001b[39mloc[i, variables_map] \u001b[39mfor\u001b[39;00m i \u001b[39min\u001b[39;00m \u001b[39mrange\u001b[39m(\u001b[39mlen\u001b[39m(df)))\n",
      "File \u001b[1;32mc:\\Python310\\lib\\site-packages\\pulp\\pulp.py:2281\u001b[0m, in \u001b[0;36mlpSum\u001b[1;34m(vector)\u001b[0m\n\u001b[0;32m   2275\u001b[0m \u001b[39mdef\u001b[39;00m \u001b[39mlpSum\u001b[39m(vector):\n\u001b[0;32m   2276\u001b[0m     \u001b[39m\"\"\"\u001b[39;00m\n\u001b[0;32m   2277\u001b[0m \u001b[39m    Calculate the sum of a list of linear expressions\u001b[39;00m\n\u001b[0;32m   2278\u001b[0m \n\u001b[0;32m   2279\u001b[0m \u001b[39m    :param vector: A list of linear expressions\u001b[39;00m\n\u001b[0;32m   2280\u001b[0m \u001b[39m    \"\"\"\u001b[39;00m\n\u001b[1;32m-> 2281\u001b[0m     \u001b[39mreturn\u001b[39;00m LpAffineExpression()\u001b[39m.\u001b[39;49maddInPlace(vector)\n",
      "File \u001b[1;32mc:\\Python310\\lib\\site-packages\\pulp\\pulp.py:896\u001b[0m, in \u001b[0;36mLpAffineExpression.addInPlace\u001b[1;34m(self, other)\u001b[0m\n\u001b[0;32m    894\u001b[0m         \u001b[39mself\u001b[39m\u001b[39m.\u001b[39maddInPlace(e)\n\u001b[0;32m    895\u001b[0m \u001b[39melif\u001b[39;00m \u001b[39misinstance\u001b[39m(other, \u001b[39mlist\u001b[39m) \u001b[39mor\u001b[39;00m \u001b[39misinstance\u001b[39m(other, Iterable):\n\u001b[1;32m--> 896\u001b[0m     \u001b[39mfor\u001b[39;00m e \u001b[39min\u001b[39;00m other:\n\u001b[0;32m    897\u001b[0m         \u001b[39mself\u001b[39m\u001b[39m.\u001b[39maddInPlace(e)\n\u001b[0;32m    898\u001b[0m \u001b[39melse\u001b[39;00m:\n",
      "File \u001b[1;32md:\\Fantasy_foot\\fantasy_fpl\\fpl_data\\player_data.py:309\u001b[0m, in \u001b[0;36m<genexpr>\u001b[1;34m(.0)\u001b[0m\n\u001b[0;32m    307\u001b[0m \u001b[39mif\u001b[39;00m variables_map[var] \u001b[39m==\u001b[39m\u001b[39m\"\u001b[39m\u001b[39mmin\u001b[39m\u001b[39m\"\u001b[39m:\n\u001b[0;32m    308\u001b[0m     df[var] \u001b[39m=\u001b[39m df[var]\u001b[39m.\u001b[39mastype(\u001b[39mfloat\u001b[39m)\u001b[39m.\u001b[39mfillna(\u001b[39m0\u001b[39m)\n\u001b[1;32m--> 309\u001b[0m     prob \u001b[39m=\u001b[39m prob \u001b[39m-\u001b[39m lpSum(selected[i] \u001b[39m*\u001b[39;49m df\u001b[39m.\u001b[39;49mloc[i, variables_map] \u001b[39mfor\u001b[39;00m i \u001b[39min\u001b[39;00m \u001b[39mrange\u001b[39m(\u001b[39mlen\u001b[39m(df)))\n\u001b[0;32m    310\u001b[0m \u001b[39melse\u001b[39;00m:\n\u001b[0;32m    311\u001b[0m     prob \u001b[39m=\u001b[39m prob \u001b[39m+\u001b[39m lpSum(selected[i] \u001b[39m*\u001b[39m df\u001b[39m.\u001b[39mloc[i, variables_map] \u001b[39mfor\u001b[39;00m i \u001b[39min\u001b[39;00m \u001b[39mrange\u001b[39m(\u001b[39mlen\u001b[39m(df)))\n",
      "File \u001b[1;32mc:\\Python310\\lib\\site-packages\\pulp\\pulp.py:209\u001b[0m, in \u001b[0;36mLpElement.__mul__\u001b[1;34m(self, other)\u001b[0m\n\u001b[0;32m    208\u001b[0m \u001b[39mdef\u001b[39;00m \u001b[39m__mul__\u001b[39m(\u001b[39mself\u001b[39m, other):\n\u001b[1;32m--> 209\u001b[0m     \u001b[39mreturn\u001b[39;00m LpAffineExpression(\u001b[39mself\u001b[39;49m) \u001b[39m*\u001b[39;49m other\n",
      "File \u001b[1;32mc:\\Python310\\lib\\site-packages\\pulp\\pulp.py:971\u001b[0m, in \u001b[0;36mLpAffineExpression.__mul__\u001b[1;34m(self, other)\u001b[0m\n\u001b[0;32m    969\u001b[0m     \u001b[39mreturn\u001b[39;00m \u001b[39mself\u001b[39m \u001b[39m*\u001b[39m LpAffineExpression(other)\n\u001b[0;32m    970\u001b[0m \u001b[39melse\u001b[39;00m:\n\u001b[1;32m--> 971\u001b[0m     \u001b[39mif\u001b[39;00m other \u001b[39m!=\u001b[39;49m \u001b[39m0\u001b[39;49m:\n\u001b[0;32m    972\u001b[0m         e\u001b[39m.\u001b[39mconstant \u001b[39m=\u001b[39m \u001b[39mself\u001b[39m\u001b[39m.\u001b[39mconstant \u001b[39m*\u001b[39m other\n\u001b[0;32m    973\u001b[0m         \u001b[39mfor\u001b[39;00m v, x \u001b[39min\u001b[39;00m \u001b[39mself\u001b[39m\u001b[39m.\u001b[39mitems():\n",
      "File \u001b[1;32m~\\AppData\\Roaming\\Python\\Python310\\site-packages\\pandas\\core\\generic.py:1537\u001b[0m, in \u001b[0;36mNDFrame.__nonzero__\u001b[1;34m(self)\u001b[0m\n\u001b[0;32m   1535\u001b[0m \u001b[39m@final\u001b[39m\n\u001b[0;32m   1536\u001b[0m \u001b[39mdef\u001b[39;00m \u001b[39m__nonzero__\u001b[39m(\u001b[39mself\u001b[39m):\n\u001b[1;32m-> 1537\u001b[0m     \u001b[39mraise\u001b[39;00m \u001b[39mValueError\u001b[39;00m(\n\u001b[0;32m   1538\u001b[0m         \u001b[39mf\u001b[39m\u001b[39m\"\u001b[39m\u001b[39mThe truth value of a \u001b[39m\u001b[39m{\u001b[39;00m\u001b[39mtype\u001b[39m(\u001b[39mself\u001b[39m)\u001b[39m.\u001b[39m\u001b[39m__name__\u001b[39m\u001b[39m}\u001b[39;00m\u001b[39m is ambiguous. \u001b[39m\u001b[39m\"\u001b[39m\n\u001b[0;32m   1539\u001b[0m         \u001b[39m\"\u001b[39m\u001b[39mUse a.empty, a.bool(), a.item(), a.any() or a.all().\u001b[39m\u001b[39m\"\u001b[39m\n\u001b[0;32m   1540\u001b[0m     )\n",
      "\u001b[1;31mValueError\u001b[0m: The truth value of a Series is ambiguous. Use a.empty, a.bool(), a.item(), a.any() or a.all()."
     ]
    }
   ],
   "source": [
    "variable_map = {\n",
    "    'ict_index_rank':'min',\n",
    "    'total_points':'max',\n",
    "    'total_points_last_season':'max',\n",
    "    'minutes_last_season':'max'\n",
    "}\n",
    "team_selected = pick_team_variable(apply_win_to_players(win_perc,curateddf,5),[33,139,255,352,355,524],variable_map)[['id','web_name','now_cost','average_points','total_points_last_season']]\n",
    "team_selected"
   ]
  },
  {
   "cell_type": "code",
   "execution_count": null,
   "metadata": {},
   "outputs": [
    {
     "name": "stdout",
     "output_type": "stream",
     "text": [
      "Models Team Performance: 44\n",
      "Best Team Performance: 127\n"
     ]
    }
   ],
   "source": [
    "gameweek_num = 1\n",
    "team_selected['gameweek_points'] = team_selected['id'].map(check_teams_performance(list(team_selected['id']),gameweek_num))\n",
    "captain_map = {\n",
    "    355:1\n",
    "}\n",
    "bench_map = {\n",
    "    33:1,\n",
    "    255:1,\n",
    "    139:1,\n",
    "    524:1\n",
    "}\n",
    "team_selected['captain'] = team_selected['id'].map(captain_map)\n",
    "team_selected['points_adjusted'] = team_selected.apply(lambda x: x['gameweek_points'] * 2 if x['captain']==1 else x['gameweek_points'],axis=1)\n",
    "team_selected['bench'] = team_selected['id'].map(captain_map)\n",
    "team_selected['points_adjusted'] = team_selected.apply(lambda x: 0 if x['bench']==1 else x['gameweek_points'],axis=1)\n",
    "print(\"Models Team Performance: \"+str(team_selected['points_adjusted'].sum()))\n",
    "print(\"Best Team Performance: \"+str(get_best_team(gameweek_num)['points'].sum()))"
   ]
  }
 ],
 "metadata": {
  "kernelspec": {
   "display_name": "Python 3",
   "language": "python",
   "name": "python3"
  },
  "language_info": {
   "codemirror_mode": {
    "name": "ipython",
    "version": 3
   },
   "file_extension": ".py",
   "mimetype": "text/x-python",
   "name": "python",
   "nbconvert_exporter": "python",
   "pygments_lexer": "ipython3",
   "version": "3.10.7"
  },
  "orig_nbformat": 4
 },
 "nbformat": 4,
 "nbformat_minor": 2
}
